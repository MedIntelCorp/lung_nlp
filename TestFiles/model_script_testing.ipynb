{
 "cells": [
  {
   "cell_type": "code",
   "execution_count": 1,
   "metadata": {},
   "outputs": [
    {
     "data": {
      "text/plain": [
       "<module 'nodule_learner' from '/data/seth/NoduleLearner/nodule_learner.py'>"
      ]
     },
     "execution_count": 1,
     "metadata": {},
     "output_type": "execute_result"
    }
   ],
   "source": [
    "import parser\n",
    "import nodule_learner\n",
    "import imp\n",
    "imp.reload(parser)\n",
    "imp.reload(nodule_learner)"
   ]
  },
  {
   "cell_type": "code",
   "execution_count": 3,
   "metadata": {
    "collapsed": true
   },
   "outputs": [],
   "source": [
    "file1 = \"Q297438865T300837729_20171220193617056-Copy1.txt\""
   ]
  },
  {
   "cell_type": "code",
   "execution_count": 4,
   "metadata": {},
   "outputs": [
    {
     "data": {
      "text/plain": [
       "[{'filename': 'Q297438865T300837729_20171220193617056-Copy1',\n",
       "  'label': -1,\n",
       "  'raw_text': 'MSH ^~\\\\& CERNER D RAD RAD 20171130093749  ORU^R03 Q297438865T300837729  2.3      8859/1\\nPID 1 ^^^^MRN 000922907 922907^^^^CD:660921~922907^^^^CD:660921 XXMOCK^RADFOUR  19520101 F  1 100 HOSPITAL AVE^^DUBOIS^PA^158011440^US~100 HOSPITAL AVE^^DUBOIS^PA^158011440^US^CD:750^^Clearfield  (814)999-9999  A U  4001780064    N\\nPD1   ^^0 DEA5555555^Test^Physician1^^^^^^DEA^CD:614387^^^CD:1084~6608123860001^Test^Physician1^^^^^^Surescripts Prescriber ID^CD:614387^^^CD:4045114~9899^Test^Physician1^^^^^^Doctor Nbr^CD:614387^^^CD:1090~MDXXXXXX^Test^Physician1^^^^^^^CD:614387^^^CD:1087~55555555555555^Test^Physician1^^^^^^NPI^CD:614387^^^NPI\\nPV1 1 O D^^^D 3   9899^Test^Physician1   RAD       9899^Test^Physician1 OPT                     D  A   20170921131904\\nORC RE\\nOBR 1 721536083^HNAM_ORDERID 01-XR-17-0035448 2909341^XR Chest PA and Lateral   20171130093633 20171130093652       RAD&Rad Type 9899^Test^Physician1    01-XR-17-0035448^HNA_ACCN~7757443^HNA_PACSID DRMC XR Rm 1 20171130093652  XR P  1   Ambulatory ^test\\nOBX 1 FT RADRPT^RADRPT^^CD:2909341^XR Chest PA and Lateral  ~~PROCEDURE                 EXAM DATE/TIME           ACCESSION                 ******STATUS******~~XR Chest PA and Lateral   11/30/2017 09:36 EST     01-XR-17-0035448          Transcribed~~Report~Chest PA and Lateral:~~Test result for Steve 11/30/17~***** Preliminary *****~~~~~Transcribed by: SLC      P',\n",
       "  'text': '100 HOSPITAL AVE DUBOIS PA 158011440 US100 HOSPITAL AVE DUBOIS PA 158011440 US CD750 Clearfield DEA5555555 Test Physician1 DEA CD614387 CD10846608123860001 Test Physician1 Surescripts Prescriber ID CD614387 CD40451149899 Test Physician1 Doctor Nbr CD614387 CD1090MDXXXXXX Test Physician1 CD614387 CD108755555555555555 Test Physician1 NPI CD614387 NPI PV1 2909341 XR Chest PA and Lateral RADRad Type DRMC XR Rm 1 RADRPT RADRPT CD2909341 XR Chest PA and Lateral PROCEDURE EXAM DATETIME ACCESSION STATUSXR Chest PA and Lateral 11302017 0936 EST 01XR170035448 TranscribedReportChest PA and LateralTest result for Steve 113017 Preliminary Transcribed by SLC'}]"
      ]
     },
     "execution_count": 4,
     "metadata": {},
     "output_type": "execute_result"
    }
   ],
   "source": [
    "parser.extract_text(file1)"
   ]
  },
  {
   "cell_type": "code",
   "execution_count": 5,
   "metadata": {
    "collapsed": true
   },
   "outputs": [],
   "source": [
    "file2 = \"EDHLungDirectData_Daily_201711171032-Copy1.txt\"\n",
    "file3 = \"13402550_20161027211025779-Copy1.txt\""
   ]
  },
  {
   "cell_type": "code",
   "execution_count": 6,
   "metadata": {
    "scrolled": true
   },
   "outputs": [
    {
     "data": {
      "text/plain": [
       "[{'filename': 'EDHLungDirectData_Daily_201711171032-Copy1_0',\n",
       "  'label': -1,\n",
       "  'raw_text': '13455440459 Jon ? HERNANDEZ 6/3/1972 0:00 F 12473 E CEDAR CIRCLE ? CENTENNIAL AR 80345 USA Black or African American Not Hispanic or Latino W 202 11/12/2017 0:00 RESECTION OF RECTUM, OPEN APPROACH F 1MC A B ? 5 1 11/10/2017 20:22 ? ? 45 ? 6:Unknown,if ever smoked 11/11/2017 0:30 ?',\n",
       "  'text': '13455440459 Jon HERNANDEZ 631972 000 F 12473 E CEDAR CIRCLE CENTENNIAL AR 80345 USA Black or African American Not Hispanic or Latino W 202 11122017 000 RESECTION OF RECTUM OPEN APPROACH F 1MC A B 5 1 11102017 2022 45 6Unknownif ever smoked 11112017 030 '},\n",
       " {'filename': 'EDHLungDirectData_Daily_201711171032-Copy1_1',\n",
       "  'label': -1,\n",
       "  'raw_text': '13455432438 John R BERGER 11/12/1973 0:00 F 5765 N ORCHARD CREEK CIR Y ? HENDERSON TN 83453 USA White Not Hispanic or Latino M C20 11/2/2017 0:00 DRAINAGE OF RIGHT MIDDLE LUNG LOBE, ENDO, DIAGN F 1BCCOHIX ? 5 8 10/30/2017 11:38 ? ? 62.4 ? 1:Current every day smoker 10/25/2017 13:28 RESECTION OF RECTUM, OPEN APPROACH',\n",
       "  'text': '13455432438 John R BERGER 11121973 000 F 5765 N ORCHARD CREEK CIR Y HENDERSON TN 83453 USA White Not Hispanic or Latino M C20 1122017 000 DRAINAGE OF RIGHT MIDDLE LUNG LOBE ENDO DIAGN F 1BCCOHIX 5 8 10302017 1138 624 1Current every day smoker 10252017 1328 RESECTION OF RECTUM OPEN APPROACH'},\n",
       " {'filename': 'EDHLungDirectData_Daily_201711171032-Copy1_2',\n",
       "  'label': -1,\n",
       "  'raw_text': '13455482491 Ron A PISTORIUS 11/13/1973 0:00 F 2990 S LIPAN ST LOT 43 ? BOULDER KY 86561 USA White Not Hispanic or Latino M 177 11/13/2017 0:00 INSERTION OF INFUSION DEV INTO SUP VENA CAVA, PERC APPROACH A 1BCFED ? 5 6 11/9/2017 13:25 ? ? 68.182 ? 3:Former Smoker 11/3/2017 19:56 ?',\n",
       "  'text': '13455482491 Ron A PISTORIUS 11131973 000 F 2990 S LIPAN ST LOT 43 BOULDER KY 86561 USA White Not Hispanic or Latino M 177 11132017 000 INSERTION OF INFUSION DEV INTO SUP VENA CAVA PERC APPROACH A 1BCFED 5 6 1192017 1325 68182 3Former Smoker 1132017 1956 '},\n",
       " {'filename': 'EDHLungDirectData_Daily_201711171032-Copy1_3',\n",
       "  'label': -1,\n",
       "  'raw_text': '13455457981 Sam E BUNDY 11/14/1973 0:00 F 1329 S CHAMBERS CIR UNIT A ? TOWANDA CA 89669 USA White Not Hispanic or Latino P 189 11/12/2017 0:00 EXCISION OF DESCENDING COLON, OPEN APPROACH W 1AARP ? 5 2 11/6/2017 14:46 ? ? 85 ? 1:Current every day smoker 11/6/2017 16:30 ?',\n",
       "  'text': '13455457981 Sam E BUNDY 11141973 000 F 1329 S CHAMBERS CIR UNIT A TOWANDA CA 89669 USA White Not Hispanic or Latino P 189 11122017 000 EXCISION OF DESCENDING COLON OPEN APPROACH W 1AARP 5 2 1162017 1446 85 1Current every day smoker 1162017 1630 '},\n",
       " {'filename': 'EDHLungDirectData_Daily_201711171032-Copy1_4',\n",
       "  'label': -1,\n",
       "  'raw_text': '1345546071 Phlip ? HOWARD 11/15/1943 0:00 M PO BOX 35 ? HIGHLANDS RANCH PA 92777 USA White Unknown S 194 11/12/2017 0:00 RESECTION OF SIGMOID COLON, OPEN APPROACH F 1KAISERHMO ? 5 6 11/9/2017 13:25 ? ? 17 ? 3:Former Smoker 11/3/2017 19:56 ?',\n",
       "  'text': '1345546071 Phlip HOWARD 11151943 000 M PO BOX 35 HIGHLANDS RANCH PA 92777 USA White Unknown S 194 11122017 000 RESECTION OF SIGMOID COLON OPEN APPROACH F 1KAISERHMO 5 6 1192017 1325 17 3Former Smoker 1132017 1956 '},\n",
       " {'filename': 'EDHLungDirectData_Daily_201711171032-Copy1_5',\n",
       "  'label': -1,\n",
       "  'raw_text': '13455474291 Tiger R MCLAUGHLIN 11/16/1954 0:00 F 1004 PARK VIEW CT ? CASTLE ROCK NJ 95885 USA White Not Hispanic or Latino M 166 11/10/2017 0:00 ASSISTANCE WITH RESPIRATORY VENTILATION, 24-96 HRS, CPAP F W.BCP65 ? 5 6 11/9/2017 13:25 ? ? 50.2 ? 3:Former Smoker 11/3/2017 16:21 DRAINAGE OF RIGHT MIDDLE LUNG LOBE, ENDO, DIAGN',\n",
       "  'text': '13455474291 Tiger R MCLAUGHLIN 11161954 000 F 1004 PARK VIEW CT CASTLE ROCK NJ 95885 USA White Not Hispanic or Latino M 166 11102017 000 ASSISTANCE WITH RESPIRATORY VENTILATION 2496 HRS CPAP F WBCP65 5 6 1192017 1325 502 3Former Smoker 1132017 1621 DRAINAGE OF RIGHT MIDDLE LUNG LOBE ENDO DIAGN'},\n",
       " {'filename': 'EDHLungDirectData_Daily_201711171032-Copy1_6',\n",
       "  'label': -1,\n",
       "  'raw_text': '13455419753 Berry S TOMS 11/17/1965 0:00 F 11946 SW 47TH TERRACE ? ENGLEWOOD NY 98993 USA White Not Hispanic or Latino M C34.2 11/10/2017 0:00 DRAINAGE OF LEFT PLEURAL CAVITY, PERCUTANEOUS APPROACH F 1AETNAHMO ? 5 6 11/9/2017 13:25 ? ? ? ? 4:Never Smoker 11/8/2017 18:21 ?',\n",
       "  'text': '13455419753 Berry S TOMS 11171965 000 F 11946 SW 47TH TERRACE ENGLEWOOD NY 98993 USA White Not Hispanic or Latino M C342 11102017 000 DRAINAGE OF LEFT PLEURAL CAVITY PERCUTANEOUS APPROACH F 1AETNAHMO 5 6 1192017 1325 4Never Smoker 1182017 1821 '},\n",
       " {'filename': 'EDHLungDirectData_Daily_201711171032-Copy1_7',\n",
       "  'label': -1,\n",
       "  'raw_text': '13455414398 Henry M HOSKINS 11/18/1976 0:00 F 6502 E JACKSON CT ? AURORA KY 73201 USA OTHER Hispanic or Latino W 193 11/12/2017 0:00 DRAINAGE OF LEFT PLEURAL CAVITY, PERCUTANEOUS APPROACH F 1UHCCOMDUA ? 4 11 11/9/2017 18:41 ? ? 83.9 ? 4:Never Smoker 11/9/2017 23:31 ?',\n",
       "  'text': '13455414398 Henry M HOSKINS 11181976 000 F 6502 E JACKSON CT AURORA KY 73201 USA OTHER Hispanic or Latino W 193 11122017 000 DRAINAGE OF LEFT PLEURAL CAVITY PERCUTANEOUS APPROACH F 1UHCCOMDUA 4 11 1192017 1841 839 4Never Smoker 1192017 2331 '},\n",
       " {'filename': 'EDHLungDirectData_Daily_201711171032-Copy1_8',\n",
       "  'label': -1,\n",
       "  'raw_text': '13455441394 Ramsey ? VISSENBERG 11/20/1987 0:00 F 5793 S KILLARNEY WY ? AURORA MN 95885 USA White Not Hispanic or Latino S 193 11/10/2017 0:00 RESPIRATORY VENTILATION, LESS THAN 24 CONSECUTIVE HOURS F 1KAISERSR ? 5 2 11/8/2017 15:18 ? ? 75 ? 3:Former Smoker 11/8/2017 18:21 ?',\n",
       "  'text': '13455441394 Ramsey VISSENBERG 11201987 000 F 5793 S KILLARNEY WY AURORA MN 95885 USA White Not Hispanic or Latino S 193 11102017 000 RESPIRATORY VENTILATION LESS THAN 24 CONSECUTIVE HOURS F 1KAISERSR 5 2 1182017 1518 75 3Former Smoker 1182017 1821 '}]"
      ]
     },
     "execution_count": 6,
     "metadata": {},
     "output_type": "execute_result"
    }
   ],
   "source": [
    "imp.reload(parser)\n",
    "parser.extract_text(file2, hca=True)"
   ]
  },
  {
   "cell_type": "code",
   "execution_count": null,
   "metadata": {
    "collapsed": true
   },
   "outputs": [],
   "source": [
    "    def predict(self, features, probability=False):\n",
    "        if probability:\n",
    "            predictions = self.clf.predict_proba(features)\n",
    "        else:\n",
    "            predictions = self.clf.predict(features)\n",
    "        output_values = []\n",
    "        columns = list(self.features_df.columns)\n",
    "        filename_idx = columns.index('filename')\n",
    "        bn_idx = columns.index('before_nodule')\n",
    "        an_idx = columns.index('after_nodule')\n",
    "        for pred, feature in zip(predictions, self.features_df.values):\n",
    "            temp_dict = {'prediction': , 'probability': max(pred),\n",
    "                         'filename': feature[filename_idx],\n",
    "                         'evidence': \" \".join([feature[bn_idx],feature[an_idx]]).strip()}\n",
    "            if probability:\n",
    "                temp_dict['prediction'] = int(np.argmax(pred))\n",
    "                temp_dict['probability'] = max(pred)\n",
    "            else:\n",
    "                temp_dict['prediction'] = int(pred)\n",
    "            output_values.append(temp_dict)\n",
    "        return json.dumps(max_values)"
   ]
  },
  {
   "cell_type": "code",
   "execution_count": 13,
   "metadata": {},
   "outputs": [
    {
     "data": {
      "text/plain": [
       "'[{\"filename\": \"13402550_20161027211025779-Copy1\", \"evidence\": \"mm left lower lobe pulmonari imag mm left lower lobe chest wo ivcon indetermin pulmonari imag mm left upper lobe imag no pleural effus consolid largest measur x mm left\", \"prediction\": 1}]'"
      ]
     },
     "execution_count": 13,
     "metadata": {},
     "output_type": "execute_result"
    }
   ],
   "source": [
    "imp.reload(nodule_learner)\n",
    "from nodule_learner import NoduleLearner\n",
    "\n",
    "clf = NoduleLearner()\n",
    "#clf.transform(file2, True)\n",
    "clf.transform_predict(file3, False)"
   ]
  },
  {
   "cell_type": "code",
   "execution_count": 132,
   "metadata": {},
   "outputs": [
    {
     "data": {
      "text/html": [
       "<div>\n",
       "<style>\n",
       "    .dataframe thead tr:only-child th {\n",
       "        text-align: right;\n",
       "    }\n",
       "\n",
       "    .dataframe thead th {\n",
       "        text-align: left;\n",
       "    }\n",
       "\n",
       "    .dataframe tbody tr th {\n",
       "        vertical-align: top;\n",
       "    }\n",
       "</style>\n",
       "<table border=\"1\" class=\"dataframe\">\n",
       "  <thead>\n",
       "    <tr style=\"text-align: right;\">\n",
       "      <th></th>\n",
       "      <th>after_nodule</th>\n",
       "      <th>before_nodule</th>\n",
       "      <th>filename</th>\n",
       "      <th>label</th>\n",
       "      <th>raw_text</th>\n",
       "      <th>text</th>\n",
       "    </tr>\n",
       "  </thead>\n",
       "  <tbody>\n",
       "    <tr>\n",
       "      <th>0</th>\n",
       "      <td>imag mm left upper lobe imag no pleural effus ...</td>\n",
       "      <td>mm left lower lobe pulmonari imag mm left lowe...</td>\n",
       "      <td>13402550_20161027211025779-Copy1</td>\n",
       "      <td>1</td>\n",
       "      <td>MSH ^~\\&amp;  Site 1   20161027171044  ORU 1340255...</td>\n",
       "      <td>Site 1 Shortness of breath Emphysema unspecifi...</td>\n",
       "    </tr>\n",
       "  </tbody>\n",
       "</table>\n",
       "</div>"
      ],
      "text/plain": [
       "                                        after_nodule  \\\n",
       "0  imag mm left upper lobe imag no pleural effus ...   \n",
       "\n",
       "                                       before_nodule  \\\n",
       "0  mm left lower lobe pulmonari imag mm left lowe...   \n",
       "\n",
       "                           filename  label  \\\n",
       "0  13402550_20161027211025779-Copy1      1   \n",
       "\n",
       "                                            raw_text  \\\n",
       "0  MSH ^~\\&  Site 1   20161027171044  ORU 1340255...   \n",
       "\n",
       "                                                text  \n",
       "0  Site 1 Shortness of breath Emphysema unspecifi...  "
      ]
     },
     "execution_count": 132,
     "metadata": {},
     "output_type": "execute_result"
    }
   ],
   "source": [
    "clf.features_df"
   ]
  },
  {
   "cell_type": "code",
   "execution_count": 89,
   "metadata": {},
   "outputs": [
    {
     "ename": "TypeError",
     "evalue": "'dict' object cannot be interpreted as an integer",
     "output_type": "error",
     "traceback": [
      "\u001b[0;31m---------------------------------------------------------------------------\u001b[0m",
      "\u001b[0;31mTypeError\u001b[0m                                 Traceback (most recent call last)",
      "\u001b[0;32m<ipython-input-89-f73b3208d458>\u001b[0m in \u001b[0;36m<module>\u001b[0;34m()\u001b[0m\n\u001b[1;32m      1\u001b[0m \u001b[0;32mimport\u001b[0m \u001b[0mnumpy\u001b[0m \u001b[0;32mas\u001b[0m \u001b[0mnp\u001b[0m\u001b[0;34m\u001b[0m\u001b[0m\n\u001b[0;32m----> 2\u001b[0;31m \u001b[0mnp\u001b[0m\u001b[0;34m.\u001b[0m\u001b[0mndarray\u001b[0m\u001b[0;34m(\u001b[0m\u001b[0mtransformed\u001b[0m\u001b[0;34m)\u001b[0m\u001b[0;34m\u001b[0m\u001b[0m\n\u001b[0m",
      "\u001b[0;31mTypeError\u001b[0m: 'dict' object cannot be interpreted as an integer"
     ]
    }
   ],
   "source": [
    "import numpy as np\n",
    "np.ndarray(transformed)"
   ]
  },
  {
   "cell_type": "code",
   "execution_count": null,
   "metadata": {
    "collapsed": true
   },
   "outputs": [],
   "source": []
  }
 ],
 "metadata": {
  "kernelspec": {
   "display_name": "Python 3",
   "language": "python",
   "name": "python3"
  },
  "language_info": {
   "codemirror_mode": {
    "name": "ipython",
    "version": 3
   },
   "file_extension": ".py",
   "mimetype": "text/x-python",
   "name": "python",
   "nbconvert_exporter": "python",
   "pygments_lexer": "ipython3",
   "version": "3.6.3"
  }
 },
 "nbformat": 4,
 "nbformat_minor": 2
}
